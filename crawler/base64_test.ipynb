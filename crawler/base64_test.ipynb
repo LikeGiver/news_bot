{
 "cells": [
  {
   "cell_type": "code",
   "execution_count": 2,
   "metadata": {},
   "outputs": [
    {
     "name": "stdout",
     "output_type": "stream",
     "text": [
      "解码后的URL为: http://mp.weixin.qq.com/s?__biz=MjgzMTAwODI0MA==&#038;mid=2652317697&#038;idx=1&#038;sn=4614dfb816745d5ac3d119cd04bc330c\n"
     ]
    }
   ],
   "source": [
    "import base64\n",
    "\n",
    "# 编码后的URL部分\n",
    "encoded_url = \"aHR0cDovL21wLndlaXhpbi5xcS5jb20vcz9fX2Jpej1Namd6TVRBd09ESTBNQT09JiMwMzg7bWlkPTI2NTIzMTc2OTcmIzAzODtpZHg9MSYjMDM4O3NuPTQ2MTRkZmI4MTY3NDVkNWFjM2QxMTljZDA0YmMzMzBj\"\n",
    "\n",
    "# Base64解码\n",
    "decoded_url = base64.b64decode(encoded_url).decode(\"utf-8\")\n",
    "\n",
    "print(f\"解码后的URL为: {decoded_url}\")\n"
   ]
  }
 ],
 "metadata": {
  "kernelspec": {
   "display_name": "news_bot",
   "language": "python",
   "name": "python3"
  },
  "language_info": {
   "codemirror_mode": {
    "name": "ipython",
    "version": 3
   },
   "file_extension": ".py",
   "mimetype": "text/x-python",
   "name": "python",
   "nbconvert_exporter": "python",
   "pygments_lexer": "ipython3",
   "version": "3.10.13"
  }
 },
 "nbformat": 4,
 "nbformat_minor": 2
}
